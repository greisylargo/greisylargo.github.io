{
  "nbformat": 4,
  "nbformat_minor": 0,
  "metadata": {
    "kernelspec": {
      "display_name": "Python 3",
      "language": "python",
      "name": "python3"
    },
    "language_info": {
      "codemirror_mode": {
        "name": "ipython",
        "version": 3
      },
      "file_extension": ".py",
      "mimetype": "text/x-python",
      "name": "python",
      "nbconvert_exporter": "python",
      "pygments_lexer": "ipython3",
      "version": "3.6.0"
    },
    "toc": {
      "base_numbering": 1,
      "nav_menu": {},
      "number_sections": true,
      "sideBar": true,
      "skip_h1_title": true,
      "title_cell": "Table of Contents",
      "title_sidebar": "Contents",
      "toc_cell": true,
      "toc_position": {},
      "toc_section_display": true,
      "toc_window_display": false
    },
    "colab": {
      "name": "Cifar10-RandomForest.ipynb",
      "provenance": [],
      "collapsed_sections": [],
      "toc_visible": true,
      "include_colab_link": true
    }
  },
  "cells": [
    {
      "cell_type": "markdown",
      "metadata": {
        "id": "view-in-github",
        "colab_type": "text"
      },
      "source": [
        "<a href=\"https://colab.research.google.com/github/greisylargo/greisylargo.github.io/blob/master/Cifar10_RandomForest.ipynb\" target=\"_parent\"><img src=\"https://colab.research.google.com/assets/colab-badge.svg\" alt=\"Open In Colab\"/></a>"
      ]
    },
    {
      "cell_type": "code",
      "metadata": {
        "collapsed": true,
        "id": "FaKqUUUOPWgZ"
      },
      "source": [
        "# import libraries\n",
        "import numpy as np\n",
        "import pickle\n",
        "import matplotlib.pyplot as plt\n",
        "from sklearn.tree import DecisionTreeClassifier\n",
        "from time import time as runtime\n",
        "from sklearn.ensemble import RandomForestClassifier\n",
        "from sklearn.decomposition import PCA\n",
        "from sklearn.model_selection import GridSearchCV\n",
        "from sklearn.pipeline import Pipeline\n",
        "from sklearn.model_selection import train_test_split\n",
        "from sklearn.metrics import confusion_matrix\n",
        "from sklearn.metrics import classification_report\n",
        "import random\n",
        "%matplotlib inline"
      ],
      "execution_count": 171,
      "outputs": []
    },
    {
      "cell_type": "markdown",
      "metadata": {
        "id": "d2VPqc5yPWgb"
      },
      "source": [
        "## Load Data (Keras data)"
      ]
    },
    {
      "cell_type": "code",
      "metadata": {
        "id": "8ox1PO2-PWgg"
      },
      "source": [
        "from keras.datasets import cifar10\n",
        "# load data\n",
        "(train_X, train_Y), (test_X, test_Y) = cifar10.load_data()\n",
        "label_names = ['airplane', 'automobile', 'bird', 'cat', 'deer', 'dog', 'frog', 'horse', 'ship', 'truck']"
      ],
      "execution_count": 173,
      "outputs": []
    },
    {
      "cell_type": "code",
      "metadata": {
        "collapsed": true,
        "id": "q4Dd-Y5MPWgg"
      },
      "source": [
        "# split training set into train and validation sets\n",
        "train_X, val_X, train_Y, val_Y = train_test_split(train_X, train_Y, test_size=0.2, random_state=42)\n",
        "\n",
        "train_X = train_X.reshape(-1,3072)\n",
        "train_Y = list(train_Y.flatten())\n",
        "test_X = test_X.reshape(-1,3072)\n",
        "test_Y = list(test_Y.flatten())\n",
        "val_X = val_X.reshape(-1,3072)\n",
        "val_Y = list(val_Y.flatten())"
      ],
      "execution_count": 174,
      "outputs": []
    },
    {
      "cell_type": "code",
      "metadata": {
        "colab": {
          "base_uri": "https://localhost:8080/"
        },
        "id": "iBZ9LcbcIQAO",
        "outputId": "7d3e510f-0d21-4972-a8ea-cb0fe2106af3"
      },
      "source": [
        "train_X.shape, test_X.shape,val_X.shape"
      ],
      "execution_count": 175,
      "outputs": [
        {
          "output_type": "execute_result",
          "data": {
            "text/plain": [
              "((40000, 3072), (10000, 3072), (10000, 3072))"
            ]
          },
          "metadata": {
            "tags": []
          },
          "execution_count": 175
        }
      ]
    },
    {
      "cell_type": "markdown",
      "metadata": {
        "id": "2hYEVTD4PWgh"
      },
      "source": [
        "### Visualize Original Image"
      ]
    },
    {
      "cell_type": "code",
      "metadata": {
        "colab": {
          "base_uri": "https://localhost:8080/",
          "height": 283
        },
        "id": "Yl3oRONIPWgh",
        "outputId": "ec842658-ce56-4058-e110-f001f854cffd"
      },
      "source": [
        "# visualize the original image\n",
        "vis = test_X[1].reshape(3, 32, 32)\n",
        "plt.imshow(np.transpose(vis, (1, 2, 0)), interpolation='none')"
      ],
      "execution_count": 178,
      "outputs": [
        {
          "output_type": "execute_result",
          "data": {
            "text/plain": [
              "<matplotlib.image.AxesImage at 0x7ff2fbf2eb00>"
            ]
          },
          "metadata": {
            "tags": []
          },
          "execution_count": 178
        },
        {
          "output_type": "display_data",
          "data": {
            "image/png": "[encoded data removed]",
            "text/plain": [
              "<Figure size 432x288 with 1 Axes>"
            ]
          },
          "metadata": {
            "tags": [],
            "needs_background": "light"
          }
        }
      ]
    },
    {
      "cell_type": "markdown",
      "metadata": {
        "id": "4NduM1J5PWgi"
      },
      "source": [
        "## PCA"
      ]
    },
    {
      "cell_type": "code",
      "metadata": {
        "colab": {
          "base_uri": "https://localhost:8080/"
        },
        "id": "JA4iczIqPWgi",
        "outputId": "0bafdc2e-9a11-4bdc-e0c8-b4757f102aff"
      },
      "source": [
        "t0 = runtime()\n",
        "pca = PCA(n_components=100)\n",
        "pca.fit(train_X)\n",
        "print(\"Model built. Runtime: %.1f\" % (runtime()-t0))"
      ],
      "execution_count": 179,
      "outputs": [
        {
          "output_type": "stream",
          "text": [
            "Model built. Runtime: 19.3\n"
          ],
          "name": "stdout"
        }
      ]
    },
    {
      "cell_type": "code",
      "metadata": {
        "colab": {
          "base_uri": "https://localhost:8080/"
        },
        "id": "HSBXyZLuPWgj",
        "outputId": "f827f633-75f1-4b32-a9c6-155056bf7e0c"
      },
      "source": [
        "t0 = runtime()\n",
        "train_pca = pca.transform(train_X)\n",
        "val_pca = pca.transform(val_X)\n",
        "test_pca = pca.transform(test_X)\n",
        "\n",
        "print(\"Model built. Runtime: %.1f\" % (runtime()-t0))"
      ],
      "execution_count": 180,
      "outputs": [
        {
          "output_type": "stream",
          "text": [
            "Model built. Runtime: 1.7\n"
          ],
          "name": "stdout"
        }
      ]
    },
    {
      "cell_type": "code",
      "metadata": {
        "colab": {
          "base_uri": "https://localhost:8080/"
        },
        "id": "FKvCm80U05-t",
        "outputId": "6e45b35f-a4c4-4f4c-d54e-032cdcc0b49e"
      },
      "source": [
        "print('train_X shape:', train_pca.shape)\r\n",
        "print('val_X shape:', val_pca.shape)\r\n",
        "print('test_X shape:', test_pca.shape)"
      ],
      "execution_count": 181,
      "outputs": [
        {
          "output_type": "stream",
          "text": [
            "train_X shape: (40000, 100)\n",
            "val_X shape: (10000, 100)\n",
            "test_X shape: (10000, 100)\n"
          ],
          "name": "stdout"
        }
      ]
    },
    {
      "cell_type": "markdown",
      "metadata": {
        "id": "T61CiUlrPWgj"
      },
      "source": [
        "## Classifier"
      ]
    },
    {
      "cell_type": "markdown",
      "metadata": {
        "id": "sC86IOsbPWgk"
      },
      "source": [
        "### Decision Tree"
      ]
    },
    {
      "cell_type": "code",
      "metadata": {
        "colab": {
          "base_uri": "https://localhost:8080/"
        },
        "id": "BpvZjtzJPWgk",
        "outputId": "06a485b7-e55f-4464-912f-6a1595309d8b"
      },
      "source": [
        "t0 = runtime()\n",
        "model_dt = DecisionTreeClassifier()\n",
        "model_dt = model_dt.fit(train_pca, train_Y)\n",
        "print(\"Model built. Runtime: %.1fs.\" % (runtime()-t0))"
      ],
      "execution_count": 185,
      "outputs": [
        {
          "output_type": "stream",
          "text": [
            "Model built. Runtime: 10.6s.\n"
          ],
          "name": "stdout"
        }
      ]
    },
    {
      "cell_type": "code",
      "metadata": {
        "colab": {
          "base_uri": "https://localhost:8080/"
        },
        "id": "kLxzJsp7PWgk",
        "outputId": "34feb397-1209-495d-cf9c-e79f9c61a36a"
      },
      "source": [
        "# prediction\n",
        "pred_dt = model_dt.predict(test_pca)\n",
        "sum(pred_dt == test_Y)"
      ],
      "execution_count": 184,
      "outputs": [
        {
          "output_type": "execute_result",
          "data": {
            "text/plain": [
              "2573"
            ]
          },
          "metadata": {
            "tags": []
          },
          "execution_count": 184
        }
      ]
    },
    {
      "cell_type": "markdown",
      "metadata": {
        "id": "AIAmO5olPWgl"
      },
      "source": [
        "### Random Forest"
      ]
    },
    {
      "cell_type": "code",
      "metadata": {
        "colab": {
          "base_uri": "https://localhost:8080/"
        },
        "id": "Z23YbAXePWgl",
        "outputId": "2b1c683a-78d7-4777-f7c7-9c0832983cb8"
      },
      "source": [
        "t0 = runtime()\n",
        "model_rf = RandomForestClassifier(n_estimators=50)\n",
        "model_rf = model_rf.fit(train_pca, train_Y)\n",
        "print(\"Model built. Runtime: %.1fs\" % (runtime()-t0))"
      ],
      "execution_count": 186,
      "outputs": [
        {
          "output_type": "stream",
          "text": [
            "Model built. Runtime: 35.7s\n"
          ],
          "name": "stdout"
        }
      ]
    },
    {
      "cell_type": "code",
      "metadata": {
        "colab": {
          "base_uri": "https://localhost:8080/"
        },
        "id": "gpp13xwoPWgm",
        "outputId": "38b5ebf2-18a0-4553-c7ab-bf17bb946f0e"
      },
      "source": [
        "# prediction\n",
        "pred_rf = model_rf.predict(test_pca)\n",
        "sum(pred_rf == test_Y)"
      ],
      "execution_count": 187,
      "outputs": [
        {
          "output_type": "execute_result",
          "data": {
            "text/plain": [
              "4248"
            ]
          },
          "metadata": {
            "tags": []
          },
          "execution_count": 187
        }
      ]
    },
    {
      "cell_type": "markdown",
      "metadata": {
        "id": "GkY7npMcPWgm"
      },
      "source": [
        "## Tuning Each Run"
      ]
    },
    {
      "cell_type": "code",
      "metadata": {
        "collapsed": true,
        "id": "1ejPJ5vOPWgn"
      },
      "source": [
        "# hyper parameters\n",
        "random.seed(1234)\n",
        "d=100\n",
        "n=500"
      ],
      "execution_count": 188,
      "outputs": []
    },
    {
      "cell_type": "code",
      "metadata": {
        "colab": {
          "base_uri": "https://localhost:8080/"
        },
        "id": "-jkL667PPWgn",
        "outputId": "edd8343e-7c0c-4c1e-c8c2-fd149d93afe5"
      },
      "source": [
        "# pca and classifier\n",
        "print(\"Number of reduced dimensions:\", d)\n",
        "print(\"Number of trees:\", n)\n",
        "t0=runtime()\n",
        "pca = PCA(n_components=d)\n",
        "pca.fit(train_X)\n",
        "train_pca = pca.transform(train_X)\n",
        "test_pca = pca.transform(test_X)\n",
        "t1=runtime()\n",
        "print(\"PCA finished. Runtime: %.1fs.\" % (t1-t0))\n",
        "model_rf = RandomForestClassifier(n_estimators=n)\n",
        "model_rf = model_rf.fit(train_pca, train_Y)\n",
        "t2=runtime()\n",
        "print(\"Random Forest fitted. Runtime: %.1fs.\" % (t2-t1))\n",
        "pred_rf = model_rf.predict(test_pca)\n",
        "acc = sum(pred_rf == test_Y)/100\n",
        "print(\"Accuracy: %.2f%%\" % acc)\n",
        "print(\"Total runtime: %.1fs.\" % (runtime()-t0))"
      ],
      "execution_count": 189,
      "outputs": [
        {
          "output_type": "stream",
          "text": [
            "Number of reduced dimensions: 100\n",
            "Number of trees: 500\n",
            "PCA finished. Runtime: 20.5s.\n",
            "Random Forest fitted. Runtime: 357.2s.\n",
            "Accuracy: 49.03%\n",
            "Total runtime: 379.9s.\n"
          ],
          "name": "stdout"
        }
      ]
    },
    {
      "cell_type": "markdown",
      "metadata": {
        "id": "f80KVVctPWgn"
      },
      "source": [
        "## Hyperparameters Tuning by Grid Search"
      ]
    },
    {
      "cell_type": "code",
      "metadata": {
        "collapsed": true,
        "id": "iLK6a4MBPWgo"
      },
      "source": [
        "# pipeline pca and classifier\n",
        "model_rf = RandomForestClassifier()\n",
        "pca_rf = Pipeline([('pca', PCA()), ('rf', RandomForestClassifier())])\n",
        "param_grid_rf = [{\n",
        "                'pca__n_components': [100],\n",
        "                'rf__n_estimators': [500]\n",
        "                }]\n",
        "\n",
        "\n",
        "#parameters_rf = {'pca__n_components':[10, 100, 500, 1000, 2000], 'rf__n_estimators':[10, 50, 70, 100, 130]}\n",
        "grid_cv_rf = GridSearchCV(estimator=pca_rf, cv=5, param_grid=param_grid_rf)"
      ],
      "execution_count": 190,
      "outputs": []
    },
    {
      "cell_type": "code",
      "metadata": {
        "collapsed": true,
        "id": "AA_COYbZPWgo",
        "colab": {
          "base_uri": "https://localhost:8080/"
        },
        "outputId": "4a8f6d16-682e-472a-94ee-a72ed15169cb"
      },
      "source": [
        "t0 = runtime()\n",
        "grid_cv_rf.fit(train_X, train_Y)\n",
        "print(\"Model built. Runtime: %.1fs\" % (runtime()-t0))"
      ],
      "execution_count": 191,
      "outputs": [
        {
          "output_type": "stream",
          "text": [
            "Model built. Runtime: 1843.1s\n"
          ],
          "name": "stdout"
        }
      ]
    },
    {
      "cell_type": "code",
      "metadata": {
        "id": "d-cOTB9cPWgp",
        "colab": {
          "base_uri": "https://localhost:8080/"
        },
        "outputId": "07ce73d1-2926-46bd-b80f-4fed35a33ab7"
      },
      "source": [
        "grid_cv_rf.cv_results_['mean_test_score']"
      ],
      "execution_count": 192,
      "outputs": [
        {
          "output_type": "execute_result",
          "data": {
            "text/plain": [
              "array([0.48])"
            ]
          },
          "metadata": {
            "tags": []
          },
          "execution_count": 192
        }
      ]
    },
    {
      "cell_type": "code",
      "metadata": {
        "id": "-vehHBMIPWgp",
        "colab": {
          "base_uri": "https://localhost:8080/"
        },
        "outputId": "78deefe5-5ca3-4c73-93f8-0421133f2791"
      },
      "source": [
        "grid_cv_rf.cv_results_['params']"
      ],
      "execution_count": 193,
      "outputs": [
        {
          "output_type": "execute_result",
          "data": {
            "text/plain": [
              "[{'pca__n_components': 100, 'rf__n_estimators': 500}]"
            ]
          },
          "metadata": {
            "tags": []
          },
          "execution_count": 193
        }
      ]
    },
    {
      "cell_type": "code",
      "metadata": {
        "collapsed": true,
        "id": "YPbWOIDfPWgp"
      },
      "source": [
        "pca_rf2 = Pipeline([('pca', PCA()), ('rf', RandomForestClassifier())])\n",
        "param_grid_rf2 = {\n",
        "                'pca__n_components': [20],\n",
        "                'rf__n_estimators': [120]\n",
        "                }\n",
        "grid_cv_rf2 = GridSearchCV(estimator=pca_rf2, cv=3, param_grid=param_grid_rf2)"
      ],
      "execution_count": 194,
      "outputs": []
    },
    {
      "cell_type": "code",
      "metadata": {
        "id": "IKY23WPZPWgq",
        "colab": {
          "base_uri": "https://localhost:8080/"
        },
        "outputId": "e71d9d0d-04a6-4951-83ee-dc71d60ac8d2"
      },
      "source": [
        "t0 = runtime()\n",
        "grid_cv_rf2.fit(train_X, train_Y)\n",
        "print(\"Model built. Runtime: %.1fs\" % (runtime()-t0))"
      ],
      "execution_count": 195,
      "outputs": [
        {
          "output_type": "stream",
          "text": [
            "Model built. Runtime: 131.8s\n"
          ],
          "name": "stdout"
        }
      ]
    },
    {
      "cell_type": "code",
      "metadata": {
        "id": "M3lpJqDVPWgq",
        "colab": {
          "base_uri": "https://localhost:8080/"
        },
        "outputId": "7495e51f-c91d-4f74-8b6e-2af1f23f21c9"
      },
      "source": [
        "grid_cv_rf2.cv_results_['mean_test_score']"
      ],
      "execution_count": 196,
      "outputs": [
        {
          "output_type": "execute_result",
          "data": {
            "text/plain": [
              "array([0.44])"
            ]
          },
          "metadata": {
            "tags": []
          },
          "execution_count": 196
        }
      ]
    },
    {
      "cell_type": "code",
      "metadata": {
        "id": "Hj1nj21ePWgr",
        "colab": {
          "base_uri": "https://localhost:8080/"
        },
        "outputId": "1be691b6-2588-4b98-d57f-93b6836acc61"
      },
      "source": [
        "grid_cv_rf2.cv_results_['params']"
      ],
      "execution_count": 197,
      "outputs": [
        {
          "output_type": "execute_result",
          "data": {
            "text/plain": [
              "[{'pca__n_components': 20, 'rf__n_estimators': 120}]"
            ]
          },
          "metadata": {
            "tags": []
          },
          "execution_count": 197
        }
      ]
    },
    {
      "cell_type": "markdown",
      "metadata": {
        "id": "-hVwbDFAPWgr"
      },
      "source": [
        "## Evaluation"
      ]
    },
    {
      "cell_type": "code",
      "metadata": {
        "collapsed": true,
        "id": "9qvUro2SPWgr"
      },
      "source": [
        "def plot_confusion_matrix(cm, classes, normalize, title):\n",
        "    \"\"\"\n",
        "    This function prints and plots the confusion matrix.\n",
        "    Normalization can be applied by setting `normalize=True`.\n",
        "    \"\"\"\n",
        "    if normalize:\n",
        "        cm = cm.astype('float') / cm.sum(axis=1)[:, np.newaxis]\n",
        "    plt.imshow(cm, interpolation='nearest', cmap=plt.cm.binary)\n",
        "    plt.colorbar()\n",
        "    tick_marks = np.arange(len(classes))\n",
        "    plt.xticks(tick_marks, classes, rotation=45)\n",
        "    plt.yticks(tick_marks, classes)\n",
        "    title_font = {'family': 'serif', 'color': 'black', 'weight': 'bold', 'size': 15}\n",
        "    label_font = {'family': 'serif', 'color': 'black', 'weight': 'normal', 'size': 10}\n",
        "    plt.title(title, fontdict=title_font)\n",
        "    plt.ylabel('True label',fontdict=label_font)\n",
        "    plt.xlabel('Predicted label',fontdict=label_font)\n",
        "    fmt = '.2f' if normalize else 'd'\n",
        "    thresh = cm.max() / 2.\n",
        "    for i, j in itertools.product(range(cm.shape[0]), range(cm.shape[1])):\n",
        "        plt.text(j, i, format(cm[i, j], fmt),\n",
        "                 horizontalalignment=\"center\",\n",
        "                 color=\"white\" if cm[i, j] > thresh else \"black\")\n",
        "    plt.tight_layout()"
      ],
      "execution_count": 198,
      "outputs": []
    },
    {
      "cell_type": "code",
      "metadata": {
        "collapsed": true,
        "id": "C7tDhYywPWgs"
      },
      "source": [
        "# predict data use the model tuned\n",
        "val_pca_evaluate = pca.transform(val_X)\n",
        "#model_rf = model_rf.fit(train_pca, train_Y)\n",
        "Y_pred = model_rf.predict(val_pca_evaluate)"
      ],
      "execution_count": 212,
      "outputs": []
    },
    {
      "cell_type": "code",
      "metadata": {
        "id": "lcx-srWPPWgt",
        "colab": {
          "base_uri": "https://localhost:8080/",
          "height": 1000
        },
        "outputId": "4cdf9b04-736a-45ee-9260-d63945f49ea8"
      },
      "source": [
        "import itertools\n",
        "# Compute confusion matrix\n",
        "cnf_matrix = confusion_matrix(Y_pred, val_Y)\n",
        "np.set_printoptions(precision=2)\n",
        "\n",
        "# Plot non-normalized confusion matrix\n",
        "plt.figure(figsize=(8,8))\n",
        "plot_confusion_matrix(cnf_matrix, classes=label_names, normalize=False, \n",
        "                      title='Confusion Matrix of Random Forest without Normalization')\n",
        "\n",
        "# Plot normalized confusion matrix\n",
        "plt.figure(figsize=(8,8))\n",
        "plot_confusion_matrix(cnf_matrix, classes=label_names, normalize=True, \n",
        "                      title='Confusion Matrix of Random Forest')"
      ],
      "execution_count": 214,
      "outputs": [
        {
          "output_type": "display_data",
          "data": {
            "image/png": "[encoded data removed]",
            "text/plain": [
              "<Figure size 576x576 with 2 Axes>"
            ]
          },
          "metadata": {
            "tags": [],
            "needs_background": "light"
          }
        },
        {
          "output_type": "display_data",
          "data": {
            "image/png": "[encoded data removed]",
            "text/plain": [
              "<Figure size 576x576 with 2 Axes>"
            ]
          },
          "metadata": {
            "tags": [],
            "needs_background": "light"
          }
        }
      ]
    },
    {
      "cell_type": "code",
      "metadata": {
        "id": "0NOU31rmPWgt",
        "colab": {
          "base_uri": "https://localhost:8080/"
        },
        "outputId": "57ecb1d9-49d8-41b8-8aca-3c03851cbfa0"
      },
      "source": [
        "print(classification_report(val_Y, Y_pred, target_names=label_names))"
      ],
      "execution_count": 216,
      "outputs": [
        {
          "output_type": "stream",
          "text": [
            "              precision    recall  f1-score   support\n",
            "\n",
            "    airplane       0.50      0.54      0.52       973\n",
            "  automobile       0.49      0.58      0.53       979\n",
            "        bird       0.37      0.30      0.33      1030\n",
            "         cat       0.32      0.28      0.30      1023\n",
            "        deer       0.40      0.41      0.40       933\n",
            "         dog       0.37      0.35      0.36      1015\n",
            "        frog       0.49      0.56      0.52       996\n",
            "       horse       0.53      0.44      0.48       994\n",
            "        ship       0.57      0.60      0.59      1017\n",
            "       truck       0.49      0.52      0.50      1040\n",
            "\n",
            "    accuracy                           0.46     10000\n",
            "   macro avg       0.45      0.46      0.45     10000\n",
            "weighted avg       0.45      0.46      0.45     10000\n",
            "\n"
          ],
          "name": "stdout"
        }
      ]
    }
  ]
}