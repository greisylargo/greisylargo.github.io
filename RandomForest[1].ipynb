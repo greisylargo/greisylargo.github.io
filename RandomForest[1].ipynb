{
  "nbformat": 4,
  "nbformat_minor": 0,
  "metadata": {
    "kernelspec": {
      "display_name": "Python 3",
      "language": "python",
      "name": "python3"
    },
    "language_info": {
      "codemirror_mode": {
        "name": "ipython",
        "version": 3
      },
      "file_extension": ".py",
      "mimetype": "text/x-python",
      "name": "python",
      "nbconvert_exporter": "python",
      "pygments_lexer": "ipython3",
      "version": "3.6.0"
    },
    "toc": {
      "base_numbering": 1,
      "nav_menu": {},
      "number_sections": true,
      "sideBar": true,
      "skip_h1_title": true,
      "title_cell": "Table of Contents",
      "title_sidebar": "Contents",
      "toc_cell": true,
      "toc_position": {},
      "toc_section_display": true,
      "toc_window_display": false
    },
    "colab": {
      "name": "RandomForest[1].ipynb",
      "provenance": [],
      "collapsed_sections": [],
      "include_colab_link": true
    }
  },
  "cells": [
    {
      "cell_type": "markdown",
      "metadata": {
        "id": "view-in-github",
        "colab_type": "text"
      },
      "source": [
        "<a href=\"https://colab.research.google.com/github/greisylargo/greisylargo.github.io/blob/master/RandomForest%5B1%5D.ipynb\" target=\"_parent\"><img src=\"https://colab.research.google.com/assets/colab-badge.svg\" alt=\"Open In Colab\"/></a>"
      ]
    },
    {
      "cell_type": "markdown",
      "metadata": {
        "toc": true,
        "id": "di-F_2HGPWgP"
      },
      "source": [
        "<h1>Table of Contents<span class=\"tocSkip\"></span></h1>\n",
        "<div class=\"toc\"><ul class=\"toc-item\"><li><span><a href=\"#Load-Data\" data-toc-modified-id=\"Load-Data-1\"><span class=\"toc-item-num\">1&nbsp;&nbsp;</span>Load Data</a></span><ul class=\"toc-item\"><li><span><a href=\"#Pickled-Data\" data-toc-modified-id=\"Pickled-Data-1.1\"><span class=\"toc-item-num\">1.1&nbsp;&nbsp;</span>Pickled Data</a></span></li><li><span><a href=\"#Keras-Data\" data-toc-modified-id=\"Keras-Data-1.2\"><span class=\"toc-item-num\">1.2&nbsp;&nbsp;</span>Keras Data</a></span></li><li><span><a href=\"#Visualize-Original-Image\" data-toc-modified-id=\"Visualize-Original-Image-1.3\"><span class=\"toc-item-num\">1.3&nbsp;&nbsp;</span>Visualize Original Image</a></span></li></ul></li><li><span><a href=\"#PCA\" data-toc-modified-id=\"PCA-2\"><span class=\"toc-item-num\">2&nbsp;&nbsp;</span>PCA</a></span></li><li><span><a href=\"#Classifier\" data-toc-modified-id=\"Classifier-3\"><span class=\"toc-item-num\">3&nbsp;&nbsp;</span>Classifier</a></span><ul class=\"toc-item\"><li><span><a href=\"#Decision-Tree\" data-toc-modified-id=\"Decision-Tree-3.1\"><span class=\"toc-item-num\">3.1&nbsp;&nbsp;</span>Decision Tree</a></span></li><li><span><a href=\"#Random-Forest\" data-toc-modified-id=\"Random-Forest-3.2\"><span class=\"toc-item-num\">3.2&nbsp;&nbsp;</span>Random Forest</a></span></li></ul></li><li><span><a href=\"#Tuning-Each-Run\" data-toc-modified-id=\"Tuning-Each-Run-4\"><span class=\"toc-item-num\">4&nbsp;&nbsp;</span>Tuning Each Run</a></span></li><li><span><a href=\"#Hyperparameters-Tuning-by-Grid-Search\" data-toc-modified-id=\"Hyperparameters-Tuning-by-Grid-Search-5\"><span class=\"toc-item-num\">5&nbsp;&nbsp;</span>Hyperparameters Tuning by Grid Search</a></span></li><li><span><a href=\"#Evaluation\" data-toc-modified-id=\"Evaluation-6\"><span class=\"toc-item-num\">6&nbsp;&nbsp;</span>Evaluation</a></span></li></ul></div>"
      ]
    },
    {
      "cell_type": "code",
      "metadata": {
        "collapsed": true,
        "id": "FaKqUUUOPWgZ"
      },
      "source": [
        "# import libraries\n",
        "import numpy as np\n",
        "import pickle\n",
        "import matplotlib.pyplot as plt\n",
        "from sklearn.tree import DecisionTreeClassifier\n",
        "from time import time as runtime\n",
        "from sklearn.ensemble import RandomForestClassifier\n",
        "from sklearn.decomposition import PCA\n",
        "from sklearn.model_selection import GridSearchCV\n",
        "from sklearn.pipeline import Pipeline\n",
        "from sklearn.model_selection import train_test_split\n",
        "from sklearn.metrics import confusion_matrix\n",
        "from sklearn.metrics import classification_report\n",
        "import random\n",
        "%matplotlib inline"
      ],
      "execution_count": null,
      "outputs": []
    },
    {
      "cell_type": "markdown",
      "metadata": {
        "id": "d2VPqc5yPWgb"
      },
      "source": [
        "## Load Data"
      ]
    },
    {
      "cell_type": "markdown",
      "metadata": {
        "id": "ogAjbTaRPWgb"
      },
      "source": [
        "### Pickled Data"
      ]
    },
    {
      "cell_type": "code",
      "metadata": {
        "collapsed": true,
        "id": "HQTBrKiuPWgc"
      },
      "source": [
        "# unpickled data batch\n",
        "def unpickle(file):\n",
        "    with open(file, 'rb') as fo:\n",
        "        dict = pickle.load(fo, encoding='latin1')\n",
        "    return dict\n",
        "\n",
        "def load_data(file):\n",
        "    data_dic = unpickle(file)\n",
        "    labels = data_dic['labels']\n",
        "    data = data_dic['data']\n",
        "    return labels, data"
      ],
      "execution_count": null,
      "outputs": []
    },
    {
      "cell_type": "code",
      "metadata": {
        "collapsed": true,
        "id": "j8o1HdvzPWgc"
      },
      "source": [
        "# load label description\n",
        "\n",
        "label_desc = unpickle(\"/content/cifar-10-batches-py/batches.meta\")\n",
        "label_names = label_desc['label_names']\n",
        "# load test data\n",
        "test_labels, test_data = load_data(\"/content/cifar-10-batches-py/test_batch\")\n",
        "# load train data\n",
        "train_labels = []\n",
        "train_data = np.zeros((50000, 3072))\n",
        "for i in range(5):\n",
        "    filename = \"/content/cifar-10-batches-py/data_batch_\" + str(i+1)\n",
        "    labels, data = load_data(filename)\n",
        "    train_labels.extend(labels)\n",
        "    train_data[i*10000:(i+1)*10000, :] = data"
      ],
      "execution_count": null,
      "outputs": []
    },
    {
      "cell_type": "code",
      "metadata": {
        "collapsed": true,
        "id": "ZTnKYZ-vPWgd"
      },
      "source": [
        "label_desc = unpickle(\"/content/cifar-10-batches-py/batches.meta\")"
      ],
      "execution_count": null,
      "outputs": []
    },
    {
      "cell_type": "code",
      "metadata": {
        "id": "IeUI87mLPWgd"
      },
      "source": [
        "label_names = label_desc['label_names']"
      ],
      "execution_count": null,
      "outputs": []
    },
    {
      "cell_type": "code",
      "metadata": {
        "colab": {
          "base_uri": "https://localhost:8080/"
        },
        "id": "jhHQRKT5PWge",
        "outputId": "9261a56a-b47d-4c3d-e81a-cb56978c6b65"
      },
      "source": [
        "label_names"
      ],
      "execution_count": null,
      "outputs": [
        {
          "output_type": "execute_result",
          "data": {
            "text/plain": [
              "['airplane',\n",
              " 'automobile',\n",
              " 'bird',\n",
              " 'cat',\n",
              " 'deer',\n",
              " 'dog',\n",
              " 'frog',\n",
              " 'horse',\n",
              " 'ship',\n",
              " 'truck']"
            ]
          },
          "metadata": {
            "tags": []
          },
          "execution_count": 19
        }
      ]
    },
    {
      "cell_type": "markdown",
      "metadata": {
        "id": "fxWRmK0mPWgf"
      },
      "source": [
        "### Keras Data"
      ]
    },
    {
      "cell_type": "code",
      "metadata": {
        "colab": {
          "base_uri": "https://localhost:8080/"
        },
        "id": "8ox1PO2-PWgg",
        "outputId": "9d00041d-6fad-4bd8-f0e8-c733d4c21296"
      },
      "source": [
        "from keras.datasets import cifar10\n",
        "# load data\n",
        "(train_X, train_Y_labels), (test_X, test_Y_labels) = cifar10.load_data()"
      ],
      "execution_count": null,
      "outputs": [
        {
          "output_type": "stream",
          "text": [
            "Downloading data from https://www.cs.toronto.edu/~kriz/cifar-10-python.tar.gz\n",
            "170500096/170498071 [==============================] - 4s 0us/step\n"
          ],
          "name": "stdout"
        }
      ]
    },
    {
      "cell_type": "code",
      "metadata": {
        "collapsed": true,
        "id": "q4Dd-Y5MPWgg"
      },
      "source": [
        "# reshape data\n",
        "train_data = train_X.reshape((50000, 3072))\n",
        "train_labels = list(train_Y_labels.flatten())\n",
        "test_data = test_X.reshape((10000, 3072))\n",
        "test_labels = list(test_Y_labels.flatten())"
      ],
      "execution_count": null,
      "outputs": []
    },
    {
      "cell_type": "markdown",
      "metadata": {
        "id": "2hYEVTD4PWgh"
      },
      "source": [
        "### Visualize Original Image"
      ]
    },
    {
      "cell_type": "code",
      "metadata": {
        "colab": {
          "base_uri": "https://localhost:8080/",
          "height": 283
        },
        "id": "Yl3oRONIPWgh",
        "outputId": "f5bfee5c-f51b-4644-8bd6-a979f9b2fdf9"
      },
      "source": [
        "# visualize the original image\n",
        "vis = test_data[1].reshape(3, 32, 32)\n",
        "plt.imshow(np.transpose(vis, (1, 2, 0)), interpolation='none')"
      ],
      "execution_count": null,
      "outputs": [
        {
          "output_type": "execute_result",
          "data": {
            "text/plain": [
              "<matplotlib.image.AxesImage at 0x7f0e9d869d30>"
            ]
          },
          "metadata": {
            "tags": []
          },
          "execution_count": 22
        },
        {
          "output_type": "display_data",
          "data": {
            "image/png": "[encoded data removed]",
            "text/plain": [
              "<Figure size 432x288 with 1 Axes>"
            ]
          },
          "metadata": {
            "tags": [],
            "needs_background": "light"
          }
        }
      ]
    },
    {
      "cell_type": "markdown",
      "metadata": {
        "id": "4NduM1J5PWgi"
      },
      "source": [
        "## PCA"
      ]
    },
    {
      "cell_type": "code",
      "metadata": {
        "colab": {
          "base_uri": "https://localhost:8080/"
        },
        "id": "JA4iczIqPWgi",
        "outputId": "443d3e0a-3154-4769-d0ce-a92a65a0a9de"
      },
      "source": [
        "t0 = runtime()\n",
        "pca = PCA(n_components=100)\n",
        "pca.fit(train_data)\n",
        "print(\"Model built. Runtime: %.1f\" % (runtime()-t0))"
      ],
      "execution_count": null,
      "outputs": [
        {
          "output_type": "stream",
          "text": [
            "Model built. Runtime: 22.5\n"
          ],
          "name": "stdout"
        }
      ]
    },
    {
      "cell_type": "code",
      "metadata": {
        "colab": {
          "base_uri": "https://localhost:8080/"
        },
        "id": "HSBXyZLuPWgj",
        "outputId": "e56a670c-8a03-4829-bc0b-803bc507941c"
      },
      "source": [
        "t0 = runtime()\n",
        "train_pca = pca.transform(train_data)\n",
        "test_pca = pca.transform(test_data)\n",
        "print(\"Model built. Runtime: %.1f\" % (runtime()-t0))"
      ],
      "execution_count": null,
      "outputs": [
        {
          "output_type": "stream",
          "text": [
            "Model built. Runtime: 1.5\n"
          ],
          "name": "stdout"
        }
      ]
    },
    {
      "cell_type": "markdown",
      "metadata": {
        "id": "T61CiUlrPWgj"
      },
      "source": [
        "## Classifier"
      ]
    },
    {
      "cell_type": "markdown",
      "metadata": {
        "id": "sC86IOsbPWgk"
      },
      "source": [
        "### Decision Tree"
      ]
    },
    {
      "cell_type": "code",
      "metadata": {
        "colab": {
          "base_uri": "https://localhost:8080/"
        },
        "id": "BpvZjtzJPWgk",
        "outputId": "cbf96c72-4a93-420c-cd1e-41077fd6057e"
      },
      "source": [
        "t0 = runtime()\n",
        "model_dt = DecisionTreeClassifier()\n",
        "model_dt = model_dt.fit(train_pca, train_labels)\n",
        "print(\"Model built. Runtime: %.1fs.\" % (runtime()-t0))"
      ],
      "execution_count": null,
      "outputs": [
        {
          "output_type": "stream",
          "text": [
            "Model built. Runtime: 12.3s.\n"
          ],
          "name": "stdout"
        }
      ]
    },
    {
      "cell_type": "code",
      "metadata": {
        "colab": {
          "base_uri": "https://localhost:8080/"
        },
        "id": "kLxzJsp7PWgk",
        "outputId": "8497b69a-9bf1-48b2-eb49-7552157d5930"
      },
      "source": [
        "# prediction\n",
        "pred_dt = model_dt.predict(test_pca)\n",
        "sum(pred_dt == test_labels)"
      ],
      "execution_count": null,
      "outputs": [
        {
          "output_type": "execute_result",
          "data": {
            "text/plain": [
              "2647"
            ]
          },
          "metadata": {
            "tags": []
          },
          "execution_count": 26
        }
      ]
    },
    {
      "cell_type": "markdown",
      "metadata": {
        "id": "AIAmO5olPWgl"
      },
      "source": [
        "### Random Forest"
      ]
    },
    {
      "cell_type": "code",
      "metadata": {
        "colab": {
          "base_uri": "https://localhost:8080/"
        },
        "id": "Z23YbAXePWgl",
        "outputId": "8bf3d1e6-780b-482d-a746-d7fccf085c42"
      },
      "source": [
        "t0 = runtime()\n",
        "model_rf = RandomForestClassifier(n_estimators=50)\n",
        "model_rf = model_rf.fit(train_pca, train_labels)\n",
        "print(\"Model built. Runtime: %.1fs\" % (runtime()-t0))"
      ],
      "execution_count": null,
      "outputs": [
        {
          "output_type": "stream",
          "text": [
            "Model built. Runtime: 41.5s\n"
          ],
          "name": "stdout"
        }
      ]
    },
    {
      "cell_type": "code",
      "metadata": {
        "colab": {
          "base_uri": "https://localhost:8080/"
        },
        "id": "gpp13xwoPWgm",
        "outputId": "e0de7da6-db33-45ef-9242-d87184d92c7e"
      },
      "source": [
        "# prediction\n",
        "pred_rf = model_rf.predict(test_pca)\n",
        "sum(pred_rf == test_labels)"
      ],
      "execution_count": null,
      "outputs": [
        {
          "output_type": "execute_result",
          "data": {
            "text/plain": [
              "4306"
            ]
          },
          "metadata": {
            "tags": []
          },
          "execution_count": 28
        }
      ]
    },
    {
      "cell_type": "code",
      "metadata": {
        "id": "wreS7gsEpT-e"
      },
      "source": [
        ""
      ],
      "execution_count": null,
      "outputs": []
    },
    {
      "cell_type": "markdown",
      "metadata": {
        "id": "GkY7npMcPWgm"
      },
      "source": [
        "## Tuning Each Run"
      ]
    },
    {
      "cell_type": "code",
      "metadata": {
        "collapsed": true,
        "id": "fmPj0vVIPWgm"
      },
      "source": [
        "# split training set into train and validation sets\n",
        "X_train, X_test, y_train, y_test = train_test_split(train_data, train_labels, test_size=0.2, random_state=42)"
      ],
      "execution_count": null,
      "outputs": []
    },
    {
      "cell_type": "code",
      "metadata": {
        "collapsed": true,
        "id": "1ejPJ5vOPWgn"
      },
      "source": [
        "# hyper parameters\n",
        "random.seed(1234)\n",
        "d=100\n",
        "n=500"
      ],
      "execution_count": 45,
      "outputs": []
    },
    {
      "cell_type": "code",
      "metadata": {
        "colab": {
          "base_uri": "https://localhost:8080/"
        },
        "id": "-jkL667PPWgn",
        "outputId": "1647e110-fb61-452a-bf0c-d6aaed28c5ef"
      },
      "source": [
        "# pca and classifier\n",
        "print(\"Number of reduced dimensions:\", d)\n",
        "print(\"Number of trees:\", n)\n",
        "t0=runtime()\n",
        "pca = PCA(n_components=d)\n",
        "pca.fit(X_train)\n",
        "train_pca = pca.transform(X_train)\n",
        "test_pca = pca.transform(X_test)\n",
        "t1=runtime()\n",
        "print(\"PCA finished. Runtime: %.1fs.\" % (t1-t0))\n",
        "model_rf = RandomForestClassifier(n_estimators=n)\n",
        "model_rf = model_rf.fit(train_pca, y_train)\n",
        "t2=runtime()\n",
        "print(\"Random Forest fitted. Runtime: %.1fs.\" % (t2-t1))\n",
        "pred_rf = model_rf.predict(test_pca)\n",
        "acc = sum(pred_rf == y_test)/100\n",
        "print(\"Accuracy: %.2f%%\" % acc)\n",
        "print(\"Total runtime: %.1fs.\" % (runtime()-t0))"
      ],
      "execution_count": 46,
      "outputs": [
        {
          "output_type": "stream",
          "text": [
            "Number of reduced dimensions: 100\n",
            "Number of trees: 500\n",
            "PCA finished. Runtime: 19.6s.\n",
            "Random Forest fitted. Runtime: 309.1s.\n",
            "Accuracy: 48.81%\n",
            "Total runtime: 330.8s.\n"
          ],
          "name": "stdout"
        }
      ]
    },
    {
      "cell_type": "markdown",
      "metadata": {
        "id": "f80KVVctPWgn"
      },
      "source": [
        "## Hyperparameters Tuning by Grid Search"
      ]
    },
    {
      "cell_type": "code",
      "metadata": {
        "collapsed": true,
        "id": "iLK6a4MBPWgo"
      },
      "source": [
        "# pipeline pca and classifier\n",
        "model_rf = RandomForestClassifier()\n",
        "pca_rf = Pipeline([('pca', PCA()), ('rf', RandomForestClassifier())])\n",
        "param_grid_rf = [{\n",
        "                'pca__n_components': [100],\n",
        "                'rf__n_estimators': [500]\n",
        "                }]\n",
        "\n",
        "\n",
        "#parameters_rf = {'pca__n_components':[10, 100, 500, 1000, 2000], 'rf__n_estimators':[10, 50, 70, 100, 130]}\n",
        "grid_cv_rf = GridSearchCV(estimator=pca_rf, cv=5, param_grid=param_grid_rf)"
      ],
      "execution_count": 47,
      "outputs": []
    },
    {
      "cell_type": "code",
      "metadata": {
        "collapsed": true,
        "id": "AA_COYbZPWgo",
        "colab": {
          "base_uri": "https://localhost:8080/"
        },
        "outputId": "0782b152-52a9-4eac-e7de-8cabd8e9e0e1"
      },
      "source": [
        "t0 = runtime()\n",
        "grid_cv_rf.fit(train_data, train_labels)\n",
        "print(\"Model built. Runtime: %.1fs\" % (runtime()-t0))"
      ],
      "execution_count": 48,
      "outputs": [
        {
          "output_type": "stream",
          "text": [
            "Model built. Runtime: 2093.4s\n"
          ],
          "name": "stdout"
        }
      ]
    },
    {
      "cell_type": "code",
      "metadata": {
        "id": "d-cOTB9cPWgp",
        "colab": {
          "base_uri": "https://localhost:8080/"
        },
        "outputId": "e95c6953-b317-4a0f-8500-5fdb529d8201"
      },
      "source": [
        "grid_cv_rf.cv_results_['mean_test_score']"
      ],
      "execution_count": 49,
      "outputs": [
        {
          "output_type": "execute_result",
          "data": {
            "text/plain": [
              "array([0.48822])"
            ]
          },
          "metadata": {
            "tags": []
          },
          "execution_count": 49
        }
      ]
    },
    {
      "cell_type": "code",
      "metadata": {
        "id": "-vehHBMIPWgp",
        "colab": {
          "base_uri": "https://localhost:8080/"
        },
        "outputId": "93d188b2-2190-476b-e89e-2537f8b4f91f"
      },
      "source": [
        "grid_cv_rf.cv_results_['params']"
      ],
      "execution_count": 50,
      "outputs": [
        {
          "output_type": "execute_result",
          "data": {
            "text/plain": [
              "[{'pca__n_components': 100, 'rf__n_estimators': 500}]"
            ]
          },
          "metadata": {
            "tags": []
          },
          "execution_count": 50
        }
      ]
    },
    {
      "cell_type": "code",
      "metadata": {
        "collapsed": true,
        "id": "YPbWOIDfPWgp"
      },
      "source": [
        "pca_rf2 = Pipeline([('pca', PCA()), ('rf', RandomForestClassifier())])\n",
        "param_grid_rf2 = {\n",
        "                'pca__n_components': [20],\n",
        "                'rf__n_estimators': [120]\n",
        "                }\n",
        "grid_cv_rf2 = GridSearchCV(estimator=pca_rf2, cv=3, param_grid=param_grid_rf2)"
      ],
      "execution_count": 61,
      "outputs": []
    },
    {
      "cell_type": "code",
      "metadata": {
        "id": "IKY23WPZPWgq",
        "colab": {
          "base_uri": "https://localhost:8080/"
        },
        "outputId": "b211ae2b-b695-4d0c-b8e8-6b468b45e726"
      },
      "source": [
        "t0 = runtime()\n",
        "grid_cv_rf2.fit(train_data, train_labels)\n",
        "print(\"Model built. Runtime: %.1fs\" % (runtime()-t0))"
      ],
      "execution_count": 62,
      "outputs": [
        {
          "output_type": "stream",
          "text": [
            "Model built. Runtime: 167.0s\n"
          ],
          "name": "stdout"
        }
      ]
    },
    {
      "cell_type": "code",
      "metadata": {
        "id": "M3lpJqDVPWgq",
        "colab": {
          "base_uri": "https://localhost:8080/"
        },
        "outputId": "13040890-7283-471a-98eb-8680bd1ee818"
      },
      "source": [
        "grid_cv_rf2.cv_results_['mean_test_score']"
      ],
      "execution_count": 63,
      "outputs": [
        {
          "output_type": "execute_result",
          "data": {
            "text/plain": [
              "array([0.44661997])"
            ]
          },
          "metadata": {
            "tags": []
          },
          "execution_count": 63
        }
      ]
    },
    {
      "cell_type": "code",
      "metadata": {
        "id": "Hj1nj21ePWgr",
        "colab": {
          "base_uri": "https://localhost:8080/"
        },
        "outputId": "12024e16-399b-45f7-9ce7-5caa1448c32a"
      },
      "source": [
        "grid_cv_rf2.cv_results_['params']"
      ],
      "execution_count": 64,
      "outputs": [
        {
          "output_type": "execute_result",
          "data": {
            "text/plain": [
              "[{'pca__n_components': 20, 'rf__n_estimators': 120}]"
            ]
          },
          "metadata": {
            "tags": []
          },
          "execution_count": 64
        }
      ]
    },
    {
      "cell_type": "markdown",
      "metadata": {
        "id": "-hVwbDFAPWgr"
      },
      "source": [
        "## Evaluation"
      ]
    },
    {
      "cell_type": "code",
      "metadata": {
        "collapsed": true,
        "id": "9qvUro2SPWgr"
      },
      "source": [
        "def plot_confusion_matrix(cm, classes, normalize, title):\n",
        "    \"\"\"\n",
        "    This function prints and plots the confusion matrix.\n",
        "    Normalization can be applied by setting `normalize=True`.\n",
        "    \"\"\"\n",
        "    if normalize:\n",
        "        cm = cm.astype('float') / cm.sum(axis=1)[:, np.newaxis]\n",
        "    plt.imshow(cm, interpolation='nearest', cmap=plt.cm.binary)\n",
        "    plt.colorbar()\n",
        "    tick_marks = np.arange(len(classes))\n",
        "    plt.xticks(tick_marks, classes, rotation=45)\n",
        "    plt.yticks(tick_marks, classes)\n",
        "    title_font = {'family': 'serif', 'color': 'black', 'weight': 'bold', 'size': 15}\n",
        "    label_font = {'family': 'serif', 'color': 'black', 'weight': 'normal', 'size': 10}\n",
        "    plt.title(title, fontdict=title_font)\n",
        "    plt.ylabel('True label',fontdict=label_font)\n",
        "    plt.xlabel('Predicted label',fontdict=label_font)\n",
        "    fmt = '.2f' if normalize else 'd'\n",
        "    thresh = cm.max() / 2.\n",
        "    for i, j in itertools.product(range(cm.shape[0]), range(cm.shape[1])):\n",
        "        plt.text(j, i, format(cm[i, j], fmt),\n",
        "                 horizontalalignment=\"center\",\n",
        "                 color=\"white\" if cm[i, j] > thresh else \"black\")\n",
        "    plt.tight_layout()"
      ],
      "execution_count": 65,
      "outputs": []
    },
    {
      "cell_type": "code",
      "metadata": {
        "collapsed": true,
        "id": "C7tDhYywPWgs"
      },
      "source": [
        "# predict data use the model tuned\n",
        "test_pca_evaluate = pca.transform(test_data)\n",
        "model_rf = model_rf.fit(train_pca, y_train)\n",
        "Y_pred = model_rf.predict(test_pca_evaluate)\n"
      ],
      "execution_count": 87,
      "outputs": []
    },
    {
      "cell_type": "code",
      "metadata": {
        "collapsed": true,
        "id": "wrPIZiyOPWgs",
        "colab": {
          "base_uri": "https://localhost:8080/"
        },
        "outputId": "cdab6ffa-ac5e-46f8-e1df-7fe6f163fdd2"
      },
      "source": [
        "label_names"
      ],
      "execution_count": 75,
      "outputs": [
        {
          "output_type": "execute_result",
          "data": {
            "text/plain": [
              "['airplane',\n",
              " 'automobile',\n",
              " 'bird',\n",
              " 'cat',\n",
              " 'deer',\n",
              " 'dog',\n",
              " 'frog',\n",
              " 'horse',\n",
              " 'ship',\n",
              " 'truck']"
            ]
          },
          "metadata": {
            "tags": []
          },
          "execution_count": 75
        }
      ]
    },
    {
      "cell_type": "code",
      "metadata": {
        "id": "lcx-srWPPWgt",
        "colab": {
          "base_uri": "https://localhost:8080/",
          "height": 1000
        },
        "outputId": "9406bb10-96c3-4477-9c9f-1a482a981779"
      },
      "source": [
        "import itertools\n",
        "# Compute confusion matrix\n",
        "cnf_matrix = confusion_matrix(Y_pred, test_labels)\n",
        "np.set_printoptions(precision=2)\n",
        "\n",
        "# Plot non-normalized confusion matrix\n",
        "plt.figure(figsize=(8,8))\n",
        "plot_confusion_matrix(cnf_matrix, classes=label_names, normalize=False, \n",
        "                      title='Confusion Matrix of Random Forest without Normalization')\n",
        "\n",
        "# Plot normalized confusion matrix\n",
        "plt.figure(figsize=(8,8))\n",
        "plot_confusion_matrix(cnf_matrix, classes=label_names, normalize=True, \n",
        "                      title='Confusion Matrix of Random Forest')"
      ],
      "execution_count": 89,
      "outputs": [
        {
          "output_type": "display_data",
          "data": {
            "image/png": "[encoded data removed]",
            "text/plain": [
              "<Figure size 576x576 with 2 Axes>"
            ]
          },
          "metadata": {
            "tags": [],
            "needs_background": "light"
          }
        },
        {
          "output_type": "display_data",
          "data": {
            "image/png": "[encoded data removed]",
            "text/plain": [
              "<Figure size 576x576 with 2 Axes>"
            ]
          },
          "metadata": {
            "tags": [],
            "needs_background": "light"
          }
        }
      ]
    },
    {
      "cell_type": "code",
      "metadata": {
        "id": "0NOU31rmPWgt",
        "colab": {
          "base_uri": "https://localhost:8080/"
        },
        "outputId": "b71f09ff-6746-44ae-c8a0-1c0b83b59513"
      },
      "source": [
        "print(classification_report(test_labels, Y_pred, target_names=label_names))"
      ],
      "execution_count": 90,
      "outputs": [
        {
          "output_type": "stream",
          "text": [
            "              precision    recall  f1-score   support\n",
            "\n",
            "    airplane       0.51      0.56      0.54      1000\n",
            "  automobile       0.52      0.59      0.55      1000\n",
            "        bird       0.34      0.28      0.31      1000\n",
            "         cat       0.31      0.28      0.29      1000\n",
            "        deer       0.41      0.40      0.40      1000\n",
            "         dog       0.39      0.36      0.37      1000\n",
            "        frog       0.47      0.54      0.50      1000\n",
            "       horse       0.55      0.44      0.49      1000\n",
            "        ship       0.55      0.61      0.58      1000\n",
            "       truck       0.48      0.50      0.49      1000\n",
            "\n",
            "    accuracy                           0.46     10000\n",
            "   macro avg       0.45      0.46      0.45     10000\n",
            "weighted avg       0.45      0.46      0.45     10000\n",
            "\n"
          ],
          "name": "stdout"
        }
      ]
    }
  ]
}